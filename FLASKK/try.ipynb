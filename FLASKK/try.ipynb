{
 "cells": [
  {
   "cell_type": "code",
   "execution_count": 1,
   "metadata": {},
   "outputs": [
    {
     "name": "stderr",
     "output_type": "stream",
     "text": [
      "d:\\miniconda3\\envs\\yang\\Lib\\site-packages\\tqdm\\auto.py:21: TqdmWarning: IProgress not found. Please update jupyter and ipywidgets. See https://ipywidgets.readthedocs.io/en/stable/user_install.html\n",
      "  from .autonotebook import tqdm as notebook_tqdm\n"
     ]
    }
   ],
   "source": [
    "from JPLearner import JPLearner"
   ]
  },
  {
   "cell_type": "code",
   "execution_count": 2,
   "metadata": {},
   "outputs": [
    {
     "name": "stderr",
     "output_type": "stream",
     "text": [
      "logger init done!\n",
      "Gemini response already done!\n"
     ]
    },
    {
     "name": "stdout",
     "output_type": "stream",
     "text": [
      "<p><ruby>昨日<rt>きのう</rt></ruby>は<ruby>従兄弟<rt>いとこ</rt></ruby>の<ruby>太郎<rt>たろう</rt></ruby>が<ruby>家<rt>いえ</rt></ruby>に<ruby>遊び<rt>あそび</rt></ruby>に<ruby>来て<rt>きて</rt></ruby>くれました。<ruby>太郎<rt>たろう</rt></ruby>は<ruby>歴史<rt>れきし</rt></ruby>が<ruby>大好き<rt>だいすき</rt></ruby>で、<ruby>特に<rt>とくに</rt></ruby><ruby>戦国時代<rt>せんごくじだい</rt></ruby>について<ruby>詳しい<rt>くわしい</rt></ruby>んです。お<ruby>昼<rt>ひる</rt></ruby>ご<ruby>飯<rt>めし</rt></ruby>を<ruby>食べた<rt>たべた</rt></ruby><ruby>後、<rt>のち、</rt></ruby><ruby>彼は<rt>かれは</rt></ruby><ruby>私<rt>わたし</rt></ruby>の<ruby>本棚<rt>ほんだな</rt></ruby>から<ruby>歴史<rt>れきし</rt></ruby><ruby>ドラマ<rt>どらま</rt></ruby>のDVDを<ruby>見つ<rt>みつ</rt></ruby>けました。</p>\n",
      "<p>「これ、<ruby>見せ<rt>みせ</rt></ruby>てくれない？」と<ruby>目<rt>め</rt></ruby>を<ruby>輝か<rt>かがやか</rt></ruby>せて<ruby>頼ん<rt>たのん</rt></ruby>できたので、<ruby>喜んで<rt>よろこんで</rt></ruby><ruby>見せ<rt>みせ</rt></ruby>ました。<ruby>ドラマ<rt>どらま</rt></ruby>は<ruby>面白く<rt>おもしろく</rt></ruby>て、<ruby>二人<rt>ふたり</rt></ruby>がかりで<ruby>登場人物<rt>とうじょうじんぶつ</rt></ruby>になりきって<ruby>セリフ<rt>せりふ</rt></ruby>を<ruby>叫ん<rt>さけん</rt></ruby>だりもしました。</p>\n",
      "<p>しかし、あまりにも<ruby>夢中<rt>むちゅう</rt></ruby>になりすぎて、<ruby>気づ<rt>きづ</rt></ruby>けば<ruby>外<rt>そと</rt></ruby>は<ruby>真っ暗。<rt>まっくら。</rt></ruby><ruby>留守<rt>るす</rt></ruby>になっていた<ruby>両親<rt>りょうしん</rt></ruby>が<ruby>帰っ<rt>かえっ</rt></ruby>てくる<ruby>時間<rt>じかん</rt></ruby>になってしまいました。<ruby>慌て<rt>あわて</rt></ruby>て<ruby>片付け<rt>かたづけ</rt></ruby>を<ruby>始め<rt>はじめ</rt></ruby>ましたが、<ruby>時<rt>とき</rt></ruby>すでに<ruby>遅し。<rt>おそし。</rt></ruby></p>\n",
      "<p>「<ruby>何<rt>なに</rt></ruby>やってるの！？」と<ruby>母<rt>はは</rt></ruby>に<ruby>聞か<rt>きか</rt></ruby>れ、<ruby>私たち<rt>わたしたち</rt></ruby>は<ruby>顔<rt>かお</rt></ruby>を<ruby>見合わ<rt>みあわ</rt></ruby>せてしまいました。<ruby>結局、<rt>けっきょく、</rt></ruby><ruby>寝巻<rt>ねまき</rt></ruby>き<ruby>姿<rt>すがた</rt></ruby>で<ruby>ドラマ<rt>どらま</rt></ruby>を<ruby>見て<rt>みて</rt></ruby>いたことを<ruby>叱ら<rt>しから</rt></ruby>れてしまいました。でも、<ruby>今日は<rt>こんにちは</rt></ruby><ruby>楽しい<rt>たのしい</rt></ruby><ruby>思い出<rt>おもいで</rt></ruby>がたくさんできたので、<ruby>後で<rt>あとで</rt></ruby>ちゃんと<ruby>母<rt>はは</rt></ruby>にお<ruby>礼<rt>れい</rt></ruby>を<ruby>言お<rt>いお</rt></ruby>うと<ruby>思い<rt>おもい</rt></ruby>ます。</p>\n"
     ]
    }
   ],
   "source": [
    "result = JPLearner(word_list=\"寝巻き｜型付け｜昼食｜棚｜お礼｜従兄弟｜叫ぶ｜聞かせる｜ドラマ｜可愛がる｜留守｜歴史\")"
   ]
  },
  {
   "cell_type": "code",
   "execution_count": 26,
   "metadata": {},
   "outputs": [],
   "source": [
    "import azure.cognitiveservices.speech as speechsdk\n",
    "import pdfkit\n",
    "audio_dir = 'audio/'\n",
    "def read_story(self):\n",
    "    speech_config = speechsdk.SpeechConfig(subscription='576c74fce86a41bdae3473085ce32be7', region='japaneast')\n",
    "    audio_config = speechsdk.audio.AudioOutputConfig(filename='static/lala.mp3')\n",
    "    speech_config.speech_synthesis_voice_name='ja-JP-KeitaNeural'\n",
    "    speech_synthesizer = speechsdk.SpeechSynthesizer(speech_config=speech_config, audio_config=audio_config)   \n",
    "    speech_synthesis_result = speech_synthesizer.speak_text_async(self.story_paragraph).get()\n",
    "    \n",
    "def generate_pdf(self):\n",
    "    #版本1：mardown转pdf\n",
    "    config = pdfkit.configuration(wkhtmltopdf=r'C:\\Program Files\\wkhtmltopdf\\bin\\wkhtmltopdf.exe')\n",
    "    options = {\n",
    "    'no-stop-slow-scripts': None,\n",
    "    'image-quality': '100',\n",
    "    'enable-local-file-access': None,\n",
    "    'margin-top': '20',\n",
    "    'page-size': 'A4',\n",
    "    'margin-right': '0',\n",
    "    'margin-bottom': '0',\n",
    "    'margin-left': '0',\n",
    "    # 'orientation': 'Landscape',  # 设置为横版\n",
    "    'encoding': \"UTF-8\"}\n",
    "    # html_text = markdown.markdown(self.story_paragraph)\n",
    "    pdfkit.from_string(self.modified_html_content,'static/pdf/'+STR().pdf',configuration=config,options=options)\n",
    "    with open('output_new.html', 'w', encoding='utf-8') as file:\n",
    "        file.write(self.modified_html_content)\n",
    "    self.logger.info('PDF生成成功') \n",
    "    "
   ]
  },
  {
   "cell_type": "code",
   "execution_count": 28,
   "metadata": {},
   "outputs": [],
   "source": [
    "read_story(result)"
   ]
  },
  {
   "cell_type": "code",
   "execution_count": 29,
   "metadata": {},
   "outputs": [
    {
     "name": "stderr",
     "output_type": "stream",
     "text": [
      "PDF生成成功\n"
     ]
    }
   ],
   "source": [
    "generate_pdf(result)"
   ]
  },
  {
   "cell_type": "code",
   "execution_count": null,
   "metadata": {},
   "outputs": [],
   "source": []
  }
 ],
 "metadata": {
  "kernelspec": {
   "display_name": "yang",
   "language": "python",
   "name": "python3"
  },
  "language_info": {
   "codemirror_mode": {
    "name": "ipython",
    "version": 3
   },
   "file_extension": ".py",
   "mimetype": "text/x-python",
   "name": "python",
   "nbconvert_exporter": "python",
   "pygments_lexer": "ipython3",
   "version": "3.12.3"
  }
 },
 "nbformat": 4,
 "nbformat_minor": 2
}
