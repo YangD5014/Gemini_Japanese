{
 "cells": [
  {
   "cell_type": "code",
   "execution_count": 4,
   "metadata": {},
   "outputs": [
    {
     "ename": "ModuleNotFoundError",
     "evalue": "No module named 'ChatTTS'",
     "output_type": "error",
     "traceback": [
      "\u001b[1;31m---------------------------------------------------------------------------\u001b[0m",
      "\u001b[1;31mModuleNotFoundError\u001b[0m                       Traceback (most recent call last)",
      "Cell \u001b[1;32mIn [4], line 1\u001b[0m\n\u001b[1;32m----> 1\u001b[0m \u001b[38;5;28;01mimport\u001b[39;00m \u001b[38;5;21;01mChatTTS\u001b[39;00m\n\u001b[0;32m      2\u001b[0m \u001b[38;5;28;01mfrom\u001b[39;00m \u001b[38;5;21;01mIPython\u001b[39;00m\u001b[38;5;21;01m.\u001b[39;00m\u001b[38;5;21;01mdisplay\u001b[39;00m \u001b[38;5;28;01mimport\u001b[39;00m Audio\n\u001b[0;32m      4\u001b[0m chat \u001b[38;5;241m=\u001b[39m ChatTTS\u001b[38;5;241m.\u001b[39mChat()\n",
      "\u001b[1;31mModuleNotFoundError\u001b[0m: No module named 'ChatTTS'"
     ]
    }
   ],
   "source": [
    "import ChatTTS\n",
    "from IPython.display import Audio\n",
    "\n",
    "chat = ChatTTS.Chat()\n",
    "chat.load_models(compile=False) # 设置为True以获得更快速度\n",
    "\n",
    "texts = [\"在这里输入你的文本\",]\n",
    "\n",
    "wavs = chat.infer(texts, use_decoder=True)\n",
    "\n",
    "torchaudio.save(\"output1.wav\", torch.from_numpy(wavs[0]), 24000)"
   ]
  },
  {
   "cell_type": "code",
   "execution_count": 2,
   "metadata": {},
   "outputs": [
    {
     "name": "stdout",
     "output_type": "stream",
     "text": [
      "Requirement already satisfied: chatTTS in d:\\miniconda3\\lib\\site-packages (0.0.5)\n",
      "Requirement already satisfied: torch>=2.0.0 in d:\\miniconda3\\lib\\site-packages (from chatTTS) (2.0.1)\n",
      "Requirement already satisfied: filelock in d:\\miniconda3\\lib\\site-packages (from torch>=2.0.0->chatTTS) (3.12.2)\n",
      "Requirement already satisfied: typing-extensions in d:\\miniconda3\\lib\\site-packages (from torch>=2.0.0->chatTTS) (4.12.0)\n",
      "Requirement already satisfied: sympy in d:\\miniconda3\\lib\\site-packages (from torch>=2.0.0->chatTTS) (1.12)\n",
      "Requirement already satisfied: networkx in d:\\miniconda3\\lib\\site-packages (from torch>=2.0.0->chatTTS) (3.1)\n",
      "Requirement already satisfied: jinja2 in d:\\miniconda3\\lib\\site-packages (from torch>=2.0.0->chatTTS) (3.1.2)\n",
      "Requirement already satisfied: MarkupSafe>=2.0 in d:\\miniconda3\\lib\\site-packages (from jinja2->torch>=2.0.0->chatTTS) (2.1.3)\n",
      "Requirement already satisfied: mpmath>=0.19 in d:\\miniconda3\\lib\\site-packages (from sympy->torch>=2.0.0->chatTTS) (1.3.0)\n"
     ]
    }
   ],
   "source": [
    "!pip install chatTTS"
   ]
  },
  {
   "cell_type": "code",
   "execution_count": null,
   "metadata": {},
   "outputs": [],
   "source": []
  }
 ],
 "metadata": {
  "kernelspec": {
   "display_name": "Python 3",
   "language": "python",
   "name": "python3"
  },
  "language_info": {
   "codemirror_mode": {
    "name": "ipython",
    "version": 3
   },
   "file_extension": ".py",
   "mimetype": "text/x-python",
   "name": "python",
   "nbconvert_exporter": "python",
   "pygments_lexer": "ipython3",
   "version": "3.9.7"
  }
 },
 "nbformat": 4,
 "nbformat_minor": 2
}
