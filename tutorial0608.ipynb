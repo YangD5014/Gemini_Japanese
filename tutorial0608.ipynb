{
 "cells": [
  {
   "cell_type": "code",
   "execution_count": 1,
   "metadata": {},
   "outputs": [
    {
     "name": "stderr",
     "output_type": "stream",
     "text": [
      "d:\\miniconda3\\envs\\yang\\Lib\\site-packages\\tqdm\\auto.py:21: TqdmWarning: IProgress not found. Please update jupyter and ipywidgets. See https://ipywidgets.readthedocs.io/en/stable/user_install.html\n",
      "  from .autonotebook import tqdm as notebook_tqdm\n"
     ]
    }
   ],
   "source": [
    "from JPLearner import JPLearner\n",
    "from bs4 import BeautifulSoup\n",
    "from pykakasi import kakasi"
   ]
  },
  {
   "cell_type": "code",
   "execution_count": 2,
   "metadata": {},
   "outputs": [
    {
     "name": "stderr",
     "output_type": "stream",
     "text": [
      "logger init done!\n",
      "Gemini response already done!\n"
     ]
    },
    {
     "name": "stdout",
     "output_type": "stream",
     "text": [
      "<p><ruby>昨日<rt>きのう</rt></ruby>は<ruby>従兄弟<rt>いとこ</rt></ruby>が<ruby>家<rt>いえ</rt></ruby>に<ruby>遊び<rt>あそび</rt></ruby>に<ruby>来て<rt>きて</rt></ruby>くれました。お<ruby>昼<rt>ひる</rt></ruby>ご<ruby>飯<rt>めし</rt></ruby>は、<ruby>母<rt>はは</rt></ruby>が<ruby>腕<rt>うで</rt></ruby>によりをかけて<ruby>作っ<rt>つくっ</rt></ruby>た<ruby>カレーライス<rt>かれーらいす</rt></ruby>で、<ruby>従兄弟<rt>いとこ</rt></ruby>は「<ruby>美味しい、<rt>おいしい、</rt></ruby><ruby>美味しい<rt>おいしい</rt></ruby>！」と<ruby>叫び<rt>さけび</rt></ruby>ながら<ruby>喜んで<rt>よろこんで</rt></ruby><ruby>食べて<rt>たべて</rt></ruby>くれました。</p>\n",
      "<p><ruby>食後、<rt>しょくご、</rt></ruby><ruby>従兄弟<rt>いとこ</rt></ruby>は<ruby>私<rt>わたし</rt></ruby>の<ruby>部屋<rt>へや</rt></ruby>で<ruby>ドラマ<rt>どらま</rt></ruby>のDVDを<ruby>見た<rt>みた</rt></ruby>いと<ruby>言い出し<rt>いいだし</rt></ruby>ました。そこで、<ruby>私<rt>わたし</rt></ruby>は<ruby>新しい<rt>あたらしい</rt></ruby><ruby>寝巻<rt>ねまき</rt></ruby>きに<ruby>着替え<rt>きがえ</rt></ruby>てから、<ruby>一緒に<rt>いっしょに</rt></ruby><ruby>部屋<rt>へや</rt></ruby>に<ruby>行き<rt>いき</rt></ruby>ました。<ruby>私<rt>わたし</rt></ruby>の<ruby>部屋<rt>へや</rt></ruby>の<ruby>本棚<rt>ほんだな</rt></ruby>には<ruby>歴史<rt>れきし</rt></ruby>の<ruby>本<rt>ほん</rt></ruby>がたくさん<ruby>並ん<rt>ならん</rt></ruby>でいるのですが、<ruby>従兄弟<rt>いとこ</rt></ruby>は「へえー、すごいね！」と<ruby>興味津々<rt>きょうみしんしん</rt></ruby>でした。</p>\n",
      "<p>DVDを<ruby>見終わ<rt>みおわ</rt></ruby>ると、<ruby>従兄弟<rt>いとこ</rt></ruby>は「<ruby>今日は<rt>こんにちは</rt></ruby><ruby>楽しか<rt>たのしか</rt></ruby>った！ありがとう！」とお<ruby>礼<rt>れい</rt></ruby>を<ruby>言って<rt>いって</rt></ruby>くれました。<ruby>私<rt>わたし</rt></ruby>も、<ruby>久し<rt>ひさし</rt></ruby>ぶりに<ruby>従兄弟<rt>いとこ</rt></ruby>と<ruby>会え<rt>あえ</rt></ruby>て<ruby>嬉しか<rt>うれしか</rt></ruby>ったです。<ruby>彼<rt>かれ</rt></ruby>が<ruby>帰っ<rt>かえっ</rt></ruby>た<ruby>後、<rt>のち、</rt></ruby><ruby>母<rt>はは</rt></ruby>は「あなたの<ruby>従兄弟、<rt>いとこ、</rt></ruby><ruby>本当<rt>ほんとう</rt></ruby>に<ruby>可愛い<rt>かわい</rt></ruby>わね」と、まるで<ruby>自分<rt>じぶん</rt></ruby>の<ruby>息子<rt>むすこ</rt></ruby>のように<ruby>可愛が<rt>かわいが</rt></ruby>っていました。 </p>\n",
      "<p><ruby>明日<rt>あした</rt></ruby>は<ruby>私<rt>わたし</rt></ruby>が<ruby>従兄弟<rt>いとこ</rt></ruby>の<ruby>家<rt>いえ</rt></ruby>に<ruby>遊び<rt>あそび</rt></ruby>に<ruby>行く<rt>いく</rt></ruby><ruby>予定<rt>よてい</rt></ruby>です。<ruby>今か<rt>いまか</rt></ruby>ら<ruby>楽しみ<rt>たのしみ</rt></ruby>でたまりません！</p>\n"
     ]
    }
   ],
   "source": [
    "a = JPLearner(word_list=\"寝巻き｜型付け｜昼食｜棚｜お礼｜従兄弟｜叫ぶ｜聞かせる｜ドラマ｜可愛がる｜留守｜歴史\")"
   ]
  },
  {
   "cell_type": "code",
   "execution_count": 3,
   "metadata": {},
   "outputs": [
    {
     "name": "stderr",
     "output_type": "stream",
     "text": [
      "PDF生成成功\n"
     ]
    }
   ],
   "source": [
    "a.generate_pdf()"
   ]
  },
  {
   "cell_type": "code",
   "execution_count": null,
   "metadata": {},
   "outputs": [],
   "source": [
    "a.html"
   ]
  },
  {
   "cell_type": "code",
   "execution_count": null,
   "metadata": {},
   "outputs": [],
   "source": [
    "soup = BeautifulSoup(a.html, 'html.parser')\n",
    "h2_tags = soup.find_all('h2')\n",
    "siblings = h2_tags[0].find_next_siblings()\n",
    "'<p>'+siblings[0].text+'</p>'"
   ]
  },
  {
   "cell_type": "code",
   "execution_count": 5,
   "metadata": {},
   "outputs": [],
   "source": [
    "def separate_stroy(self):\n",
    "    self.story_paragraph =[]\n",
    "    self.aferhtml_story_paragraph = []\n",
    "    self.afermd_story_paragraph = []\n",
    "    self.soup = BeautifulSoup(self.html, 'html.parser')\n",
    "    h2_tags = self.soup.find_all('h2')\n",
    "    # 找到<h2>标签后的所有兄弟节点，直到下一个<h2>标签\n",
    "    for sibling in h2_tags[0].find_next_siblings():\n",
    "        if sibling.name == 'h2':\n",
    "            break\n",
    "        if sibling.name == 'p':\n",
    "            # print(sibling.text)\n",
    "            self.story_paragraph.append(sibling.text)\n",
    "            after_html,after_md = JPLearner.假名注音(sentence=sibling.text)\n",
    "            after_html = '<p>'+after_html+'</p>'\n",
    "            print(f'after_html={after_html}')\n",
    "            #sibling.string.replace_with(after_html)\n",
    "            self.aferhtml_story_paragraph.append(after_html)\n",
    "            self.afermd_story_paragraph.append(after_md)\n",
    "            #print(after_html,after_md)\n",
    "                    \n",
    "    self.story_paragraph  = ''.join(self.story_paragraph)\n",
    "    self.aferhtml_story_paragraph = ''.join(self.aferhtml_story_paragraph)\n",
    "    self.aferhtml_story_paragraph \n",
    "    \n",
    "    self.afermd_story_paragraph = ''.join(self.afermd_story_paragraph)\n",
    "    self.aferhtml = self.soup\n",
    "    # self.logger.info(f'After html:{self.aferhtml}')\n",
    "    # self.logger.info(f'短文正文:{self.story_paragraph}')\n",
    "            # 定义替换函数\n",
    "    def replace_content(match):\n",
    "        h2_tag = match.group(1)\n",
    "        content = match.group(2)\n",
    "        # 删除第一个 <h2> 标签后的所有 <p> 标签内容\n",
    "        p_pattern = re.compile(r'<p>.*?</p>', re.DOTALL)\n",
    "        new_content = p_pattern.sub('', content)\n",
    "        # 插入新的内容\n",
    "        new_content = self.aferhtml_story_paragraph + '<h2>'\n",
    "        return h2_tag + new_content"
   ]
  },
  {
   "cell_type": "code",
   "execution_count": 6,
   "metadata": {},
   "outputs": [
    {
     "name": "stdout",
     "output_type": "stream",
     "text": [
      "after_html=<p><ruby>昨日<rt>きのう</rt></ruby>は<ruby>従兄弟<rt>いとこ</rt></ruby>が<ruby>家<rt>いえ</rt></ruby>に<ruby>遊び<rt>あそび</rt></ruby>に<ruby>来て<rt>きて</rt></ruby>くれました。お<ruby>昼<rt>ひる</rt></ruby>ご<ruby>飯<rt>めし</rt></ruby>は、<ruby>母<rt>はは</rt></ruby>が<ruby>腕<rt>うで</rt></ruby>によりをかけて<ruby>作っ<rt>つくっ</rt></ruby>た<ruby>カレーライス<rt>かれーらいす</rt></ruby>で、<ruby>従兄弟<rt>いとこ</rt></ruby>は「<ruby>美味しい、<rt>おいしい、</rt></ruby><ruby>美味しい<rt>おいしい</rt></ruby>！」と<ruby>叫び<rt>さけび</rt></ruby>ながら<ruby>喜んで<rt>よろこんで</rt></ruby><ruby>食べて<rt>たべて</rt></ruby>くれました。</p>\n",
      "after_html=<p><ruby>食後、<rt>しょくご、</rt></ruby><ruby>従兄弟<rt>いとこ</rt></ruby>は<ruby>私<rt>わたし</rt></ruby>の<ruby>部屋<rt>へや</rt></ruby>で<ruby>ドラマ<rt>どらま</rt></ruby>のDVDを<ruby>見た<rt>みた</rt></ruby>いと<ruby>言い出し<rt>いいだし</rt></ruby>ました。そこで、<ruby>私<rt>わたし</rt></ruby>は<ruby>新しい<rt>あたらしい</rt></ruby><ruby>寝巻<rt>ねまき</rt></ruby>きに<ruby>着替え<rt>きがえ</rt></ruby>てから、<ruby>一緒に<rt>いっしょに</rt></ruby><ruby>部屋<rt>へや</rt></ruby>に<ruby>行き<rt>いき</rt></ruby>ました。<ruby>私<rt>わたし</rt></ruby>の<ruby>部屋<rt>へや</rt></ruby>の<ruby>本棚<rt>ほんだな</rt></ruby>には<ruby>歴史<rt>れきし</rt></ruby>の<ruby>本<rt>ほん</rt></ruby>がたくさん<ruby>並ん<rt>ならん</rt></ruby>でいるのですが、<ruby>従兄弟<rt>いとこ</rt></ruby>は「へえー、すごいね！」と<ruby>興味津々<rt>きょうみしんしん</rt></ruby>でした。</p>\n",
      "after_html=<p>DVDを<ruby>見終わ<rt>みおわ</rt></ruby>ると、<ruby>従兄弟<rt>いとこ</rt></ruby>は「<ruby>今日は<rt>こんにちは</rt></ruby><ruby>楽しか<rt>たのしか</rt></ruby>った！ありがとう！」とお<ruby>礼<rt>れい</rt></ruby>を<ruby>言って<rt>いって</rt></ruby>くれました。<ruby>私<rt>わたし</rt></ruby>も、<ruby>久し<rt>ひさし</rt></ruby>ぶりに<ruby>従兄弟<rt>いとこ</rt></ruby>と<ruby>会え<rt>あえ</rt></ruby>て<ruby>嬉しか<rt>うれしか</rt></ruby>ったです。<ruby>彼<rt>かれ</rt></ruby>が<ruby>帰っ<rt>かえっ</rt></ruby>た<ruby>後、<rt>のち、</rt></ruby><ruby>母<rt>はは</rt></ruby>は「あなたの<ruby>従兄弟、<rt>いとこ、</rt></ruby><ruby>本当<rt>ほんとう</rt></ruby>に<ruby>可愛い<rt>かわい</rt></ruby>わね」と、まるで<ruby>自分<rt>じぶん</rt></ruby>の<ruby>息子<rt>むすこ</rt></ruby>のように<ruby>可愛が<rt>かわいが</rt></ruby>っていました。 </p>\n",
      "after_html=<p><ruby>明日<rt>あした</rt></ruby>は<ruby>私<rt>わたし</rt></ruby>が<ruby>従兄弟<rt>いとこ</rt></ruby>の<ruby>家<rt>いえ</rt></ruby>に<ruby>遊び<rt>あそび</rt></ruby>に<ruby>行く<rt>いく</rt></ruby><ruby>予定<rt>よてい</rt></ruby>です。<ruby>今か<rt>いまか</rt></ruby>ら<ruby>楽しみ<rt>たのしみ</rt></ruby>でたまりません！</p>\n"
     ]
    }
   ],
   "source": [
    "separate_stroy(a)"
   ]
  },
  {
   "cell_type": "code",
   "execution_count": 14,
   "metadata": {},
   "outputs": [],
   "source": [
    "import azure.cognitiveservices.speech as speechsdk\n",
    "def read_story(self):\n",
    "    speech_config = speechsdk.SpeechConfig(subscription='576c74fce86a41bdae3473085ce32be7', region='japaneast')\n",
    "    audio_config = speechsdk.audio.AudioOutputConfig(filename='lalala'+'.mp3')\n",
    "    speech_config.speech_synthesis_voice_name='ja-JP-KeitaNeural'\n",
    "    speech_synthesizer = speechsdk.SpeechSynthesizer(speech_config=speech_config, audio_config=audio_config)   \n",
    "    speech_synthesis_result = speech_synthesizer.speak_text_async(self.story_paragraph).get()"
   ]
  },
  {
   "cell_type": "code",
   "execution_count": 15,
   "metadata": {},
   "outputs": [],
   "source": [
    "read_story(a)"
   ]
  },
  {
   "cell_type": "code",
   "execution_count": null,
   "metadata": {},
   "outputs": [],
   "source": [
    "with open('output2.html', 'w', encoding='utf-8') as file:\n",
    "    file.write(a.html)"
   ]
  },
  {
   "cell_type": "code",
   "execution_count": null,
   "metadata": {},
   "outputs": [],
   "source": [
    "with open('output3.html', 'w', encoding='utf-8') as file:\n",
    "    file.write(a.html)"
   ]
  },
  {
   "cell_type": "code",
   "execution_count": null,
   "metadata": {},
   "outputs": [],
   "source": [
    "a.generate_pdf()"
   ]
  },
  {
   "cell_type": "code",
   "execution_count": null,
   "metadata": {},
   "outputs": [],
   "source": [
    "with open('output2.html', 'w', encoding='utf-8') as file:\n",
    "    file.write(modified_html_content)"
   ]
  },
  {
   "cell_type": "code",
   "execution_count": null,
   "metadata": {},
   "outputs": [],
   "source": []
  }
 ],
 "metadata": {
  "kernelspec": {
   "display_name": "Frontend",
   "language": "python",
   "name": "python3"
  },
  "language_info": {
   "codemirror_mode": {
    "name": "ipython",
    "version": 3
   },
   "file_extension": ".py",
   "mimetype": "text/x-python",
   "name": "python",
   "nbconvert_exporter": "python",
   "pygments_lexer": "ipython3",
   "version": "3.12.3"
  }
 },
 "nbformat": 4,
 "nbformat_minor": 2
}
