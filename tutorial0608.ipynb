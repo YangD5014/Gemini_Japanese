{
 "cells": [
  {
   "cell_type": "code",
   "execution_count": 1,
   "metadata": {},
   "outputs": [
    {
     "name": "stderr",
     "output_type": "stream",
     "text": [
      "/opt/miniconda3/envs/Frontend/lib/python3.10/site-packages/tqdm/auto.py:21: TqdmWarning: IProgress not found. Please update jupyter and ipywidgets. See https://ipywidgets.readthedocs.io/en/stable/user_install.html\n",
      "  from .autonotebook import tqdm as notebook_tqdm\n"
     ]
    }
   ],
   "source": [
    "from JPLearner import JPLearner\n",
    "from bs4 import BeautifulSoup\n",
    "from pykakasi import kakasi\n",
    "import re"
   ]
  },
  {
   "cell_type": "code",
   "execution_count": 2,
   "metadata": {},
   "outputs": [
    {
     "name": "stderr",
     "output_type": "stream",
     "text": [
      "logger init done!\n",
      "Gemini response already done!\n"
     ]
    },
    {
     "name": "stdout",
     "output_type": "stream",
     "text": [
      "<ruby>昨日<rt>きのう</rt></ruby>は、<ruby>従兄弟<rt>いとこ</rt></ruby>の<ruby>健太<rt>けんた</rt></ruby>が<ruby>家<rt>いえ</rt></ruby>に<ruby>遊び<rt>あそび</rt></ruby>に<ruby>来て<rt>きて</rt></ruby>くれました。<ruby>健太<rt>けんた</rt></ruby>は<ruby>歴史<rt>れきし</rt></ruby>が<ruby>大好き<rt>だいすき</rt></ruby>で、<ruby>特に<rt>とくに</rt></ruby><ruby>戦国時代<rt>せんごくじだい</rt></ruby>にはまっているんです。お<ruby>昼<rt>ひる</rt></ruby>ご<ruby>飯<rt>めし</rt></ruby>にしようとした<ruby>時、<rt>とき、</rt></ruby><ruby>彼<rt>かれ</rt></ruby>が「<ruby>ドラマ<rt>どらま</rt></ruby>で<ruby>見た<rt>みた</rt></ruby>んだけど、<ruby>戦国時代<rt>せんごくじだい</rt></ruby>の<ruby>武士<rt>ぶし</rt></ruby>は<ruby>寝巻<rt>ねまき</rt></ruby>きを<ruby>着て<rt>きて</rt></ruby>いなかったらしいよ！」と<ruby>叫ぶ<rt>さけぶ</rt></ruby>ように<ruby>教え<rt>おしえ</rt></ruby>てくれました。<ruby>驚い<rt>おどろい</rt></ruby>て「じゃあ、どうやって<ruby>寝て<rt>ねて</rt></ruby>いたんだろう？」と<ruby>聞く<rt>きく</rt></ruby>と、<ruby>健太<rt>けんた</rt></ruby>は<ruby>得意<rt>とくい</rt></ruby>そうに<ruby>歴史<rt>れきし</rt></ruby>の<ruby>本<rt>ほん</rt></ruby>が<ruby>並ん<rt>ならん</rt></ruby>だ<ruby>棚<rt>たな</rt></ruby>から<ruby>一冊<rt>いっさつ</rt></ruby><ruby>取り出し<rt>とりだし</rt></ruby>て、<ruby>説明<rt>せつめい</rt></ruby>を<ruby>始め<rt>はじめ</rt></ruby>ました。<ruby>彼は<rt>かれは</rt></ruby><ruby>本当<rt>ほんとう</rt></ruby>に<ruby>歴史<rt>れきし</rt></ruby>に<ruby>詳しい<rt>くわしい</rt></ruby>んです。 \n",
      "<ruby>昨日<rt>きのう</rt></ruby>は、<ruby>従兄弟<rt>いとこ</rt></ruby>の<ruby>健太<rt>けんた</rt></ruby>が<ruby>家<rt>いえ</rt></ruby>に<ruby>遊び<rt>あそび</rt></ruby>に<ruby>来て<rt>きて</rt></ruby>くれました。<ruby>健太<rt>けんた</rt></ruby>は<ruby>歴史<rt>れきし</rt></ruby>が<ruby>大好き<rt>だいすき</rt></ruby>で、<ruby>特に<rt>とくに</rt></ruby><ruby>戦国時代<rt>せんごくじだい</rt></ruby>にはまっているんです。お<ruby>昼<rt>ひる</rt></ruby>ご<ruby>飯<rt>めし</rt></ruby>にしようとした<ruby>時、<rt>とき、</rt></ruby><ruby>彼<rt>かれ</rt></ruby>が「<ruby>ドラマ<rt>どらま</rt></ruby>で<ruby>見た<rt>みた</rt></ruby>んだけど、<ruby>戦国時代<rt>せんごくじだい</rt></ruby>の<ruby>武士<rt>ぶし</rt></ruby>は<ruby>寝巻<rt>ねまき</rt></ruby>きを<ruby>着て<rt>きて</rt></ruby>いなかったらしいよ！」と<ruby>叫ぶ<rt>さけぶ</rt></ruby>ように<ruby>教え<rt>おしえ</rt></ruby>てくれました。<ruby>驚い<rt>おどろい</rt></ruby>て「じゃあ、どうやって<ruby>寝て<rt>ねて</rt></ruby>いたんだろう？」と<ruby>聞く<rt>きく</rt></ruby>と、<ruby>健太<rt>けんた</rt></ruby>は<ruby>得意<rt>とくい</rt></ruby>そうに<ruby>歴史<rt>れきし</rt></ruby>の<ruby>本<rt>ほん</rt></ruby>が<ruby>並ん<rt>ならん</rt></ruby>だ<ruby>棚<rt>たな</rt></ruby>から<ruby>一冊<rt>いっさつ</rt></ruby><ruby>取り出し<rt>とりだし</rt></ruby>て、<ruby>説明<rt>せつめい</rt></ruby>を<ruby>始め<rt>はじめ</rt></ruby>ました。<ruby>彼は<rt>かれは</rt></ruby><ruby>本当<rt>ほんとう</rt></ruby>に<ruby>歴史<rt>れきし</rt></ruby>に<ruby>詳しい<rt>くわしい</rt></ruby>んです。  昨日(きのう)は、従兄弟(いとこ)の健太(けんた)が家(いえ)に遊び(あそび)に来て(きて)くれました。健太(けんた)は歴史(れきし)が大好き(だいすき)で、特に(とくに)戦国時代(せんごくじだい)にはまっているんです。お昼(ひる)ご飯(めし)にしようとした時、(とき、)彼(かれ)が「ドラマ(どらま)で見た(みた)んだけど、戦国時代(せんごくじだい)の武士(ぶし)は寝巻(ねまき)きを着て(きて)いなかったらしいよ！」と叫ぶ(さけぶ)ように教え(おしえ)てくれました。驚い(おどろい)て「じゃあ、どうやって寝て(ねて)いたんだろう？」と聞く(きく)と、健太(けんた)は得意(とくい)そうに歴史(れきし)の本(ほん)が並ん(ならん)だ棚(たな)から一冊(いっさつ)取り出し(とりだし)て、説明(せつめい)を始め(はじめ)ました。彼は(かれは)本当(ほんとう)に歴史(れきし)に詳しい(くわしい)んです。 \n",
      "その<ruby>後、<rt>のち、</rt></ruby><ruby>一緒に<rt>いっしょに</rt></ruby><ruby>時代劇<rt>じだいげき</rt></ruby><ruby>ドラマ<rt>どらま</rt></ruby>を<ruby>見ま<rt>みま</rt></ruby>した。<ruby>ドラマ<rt>どらま</rt></ruby>には<ruby>可愛い<rt>かわい</rt></ruby><ruby>子犬<rt>こいぬ</rt></ruby>が<ruby>登場<rt>とうじょう</rt></ruby>し、<ruby>健太<rt>けんた</rt></ruby>は「<ruby>可愛い、<rt>かわい、</rt></ruby><ruby>可愛い<rt>かわい</rt></ruby>」と<ruby>言い<rt>いい</rt></ruby>ながら<ruby>子犬<rt>こいぬ</rt></ruby>をなでる<ruby>真似<rt>まね</rt></ruby>をしていました。<ruby>普段<rt>ふだん</rt></ruby>はなかなか<ruby>見せ<rt>みせ</rt></ruby>ない<ruby>一面<rt>いちめん</rt></ruby>を<ruby>見る<rt>みる</rt></ruby>ことができて、<ruby>嬉しか<rt>うれしか</rt></ruby>ったです。\n",
      "その<ruby>後、<rt>のち、</rt></ruby><ruby>一緒に<rt>いっしょに</rt></ruby><ruby>時代劇<rt>じだいげき</rt></ruby><ruby>ドラマ<rt>どらま</rt></ruby>を<ruby>見ま<rt>みま</rt></ruby>した。<ruby>ドラマ<rt>どらま</rt></ruby>には<ruby>可愛い<rt>かわい</rt></ruby><ruby>子犬<rt>こいぬ</rt></ruby>が<ruby>登場<rt>とうじょう</rt></ruby>し、<ruby>健太<rt>けんた</rt></ruby>は「<ruby>可愛い、<rt>かわい、</rt></ruby><ruby>可愛い<rt>かわい</rt></ruby>」と<ruby>言い<rt>いい</rt></ruby>ながら<ruby>子犬<rt>こいぬ</rt></ruby>をなでる<ruby>真似<rt>まね</rt></ruby>をしていました。<ruby>普段<rt>ふだん</rt></ruby>はなかなか<ruby>見せ<rt>みせ</rt></ruby>ない<ruby>一面<rt>いちめん</rt></ruby>を<ruby>見る<rt>みる</rt></ruby>ことができて、<ruby>嬉しか<rt>うれしか</rt></ruby>ったです。 その後、(のち、)一緒に(いっしょに)時代劇(じだいげき)ドラマ(どらま)を見ま(みま)した。ドラマ(どらま)には可愛い(かわい)子犬(こいぬ)が登場(とうじょう)し、健太(けんた)は「可愛い、(かわい、)可愛い(かわい)」と言い(いい)ながら子犬(こいぬ)をなでる真似(まね)をしていました。普段(ふだん)はなかなか見せ(みせ)ない一面(いちめん)を見る(みる)ことができて、嬉しか(うれしか)ったです。\n",
      "<ruby>夜<rt>よる</rt></ruby>は、<ruby>健太<rt>けんた</rt></ruby>が<ruby>作っ<rt>つくっ</rt></ruby>てくれた<ruby>美味しい<rt>おいしい</rt></ruby>お<ruby>味噌汁<rt>みそしる</rt></ruby>と、<ruby>母<rt>はは</rt></ruby>が<ruby>作っ<rt>つくっ</rt></ruby>てくれたお<ruby>弁当<rt>べんとう</rt></ruby>を<ruby>食べ<rt>たべ</rt></ruby>ました。<ruby>健太<rt>けんた</rt></ruby>は<ruby>料理<rt>りょうり</rt></ruby>の<ruby>型<rt>かた</rt></ruby>も<ruby>上手<rt>じょうず</rt></ruby>で、<ruby>本当<rt>ほんとう</rt></ruby>に<ruby>感心<rt>かんしん</rt></ruby>しました。<ruby>帰る<rt>かえる</rt></ruby>ときは「<ruby>今日は<rt>こんにちは</rt></ruby>ありがとう！<ruby>楽しか<rt>たのしか</rt></ruby>ったよ！」と<ruby>笑顔<rt>えがお</rt></ruby>でお<ruby>礼<rt>れい</rt></ruby>を<ruby>言って<rt>いって</rt></ruby>くれました。また<ruby>遊び<rt>あそび</rt></ruby>に<ruby>来て<rt>きて</rt></ruby>ほしいな。\n",
      "<ruby>夜<rt>よる</rt></ruby>は、<ruby>健太<rt>けんた</rt></ruby>が<ruby>作っ<rt>つくっ</rt></ruby>てくれた<ruby>美味しい<rt>おいしい</rt></ruby>お<ruby>味噌汁<rt>みそしる</rt></ruby>と、<ruby>母<rt>はは</rt></ruby>が<ruby>作っ<rt>つくっ</rt></ruby>てくれたお<ruby>弁当<rt>べんとう</rt></ruby>を<ruby>食べ<rt>たべ</rt></ruby>ました。<ruby>健太<rt>けんた</rt></ruby>は<ruby>料理<rt>りょうり</rt></ruby>の<ruby>型<rt>かた</rt></ruby>も<ruby>上手<rt>じょうず</rt></ruby>で、<ruby>本当<rt>ほんとう</rt></ruby>に<ruby>感心<rt>かんしん</rt></ruby>しました。<ruby>帰る<rt>かえる</rt></ruby>ときは「<ruby>今日は<rt>こんにちは</rt></ruby>ありがとう！<ruby>楽しか<rt>たのしか</rt></ruby>ったよ！」と<ruby>笑顔<rt>えがお</rt></ruby>でお<ruby>礼<rt>れい</rt></ruby>を<ruby>言って<rt>いって</rt></ruby>くれました。また<ruby>遊び<rt>あそび</rt></ruby>に<ruby>来て<rt>きて</rt></ruby>ほしいな。 夜(よる)は、健太(けんた)が作っ(つくっ)てくれた美味しい(おいしい)お味噌汁(みそしる)と、母(はは)が作っ(つくっ)てくれたお弁当(べんとう)を食べ(たべ)ました。健太(けんた)は料理(りょうり)の型(かた)も上手(じょうず)で、本当(ほんとう)に感心(かんしん)しました。帰る(かえる)ときは「今日は(こんにちは)ありがとう！楽しか(たのしか)ったよ！」と笑顔(えがお)でお礼(れい)を言って(いって)くれました。また遊び(あそび)に来て(きて)ほしいな。\n"
     ]
    }
   ],
   "source": [
    "a = JPLearner(word_list=\"寝巻き｜型付け｜昼食｜棚｜お礼｜従兄弟｜叫ぶ｜聞かせる｜ドラマ｜可愛がる｜留守｜歴史\")"
   ]
  },
  {
   "cell_type": "code",
   "execution_count": null,
   "metadata": {},
   "outputs": [],
   "source": [
    "a.separate_stroy()"
   ]
  },
  {
   "cell_type": "code",
   "execution_count": 3,
   "metadata": {},
   "outputs": [
    {
     "data": {
      "text/plain": [
       "'<h2>短文故事</h2><p><ruby>昨日<rt>きのう</rt></ruby>は、<ruby>従兄弟<rt>いとこ</rt></ruby>の<ruby>健太<rt>けんた</rt></ruby>が<ruby>家<rt>いえ</rt></ruby>に<ruby>遊び<rt>あそび</rt></ruby>に<ruby>来て<rt>きて</rt></ruby>くれました。<ruby>健太<rt>けんた</rt></ruby>は<ruby>歴史<rt>れきし</rt></ruby>が<ruby>大好き<rt>だいすき</rt></ruby>で、<ruby>特に<rt>とくに</rt></ruby><ruby>戦国時代<rt>せんごくじだい</rt></ruby>にはまっているんです。お<ruby>昼<rt>ひる</rt></ruby>ご<ruby>飯<rt>めし</rt></ruby>にしようとした<ruby>時、<rt>とき、</rt></ruby><ruby>彼<rt>かれ</rt></ruby>が「<ruby>ドラマ<rt>どらま</rt></ruby>で<ruby>見た<rt>みた</rt></ruby>んだけど、<ruby>戦国時代<rt>せんごくじだい</rt></ruby>の<ruby>武士<rt>ぶし</rt></ruby>は<ruby>寝巻<rt>ねまき</rt></ruby>きを<ruby>着て<rt>きて</rt></ruby>いなかったらしいよ！」と<ruby>叫ぶ<rt>さけぶ</rt></ruby>ように<ruby>教え<rt>おしえ</rt></ruby>てくれました。<ruby>驚い<rt>おどろい</rt></ruby>て「じゃあ、どうやって<ruby>寝て<rt>ねて</rt></ruby>いたんだろう？」と<ruby>聞く<rt>きく</rt></ruby>と、<ruby>健太<rt>けんた</rt></ruby>は<ruby>得意<rt>とくい</rt></ruby>そうに<ruby>歴史<rt>れきし</rt></ruby>の<ruby>本<rt>ほん</rt></ruby>が<ruby>並ん<rt>ならん</rt></ruby>だ<ruby>棚<rt>たな</rt></ruby>から<ruby>一冊<rt>いっさつ</rt></ruby><ruby>取り出し<rt>とりだし</rt></ruby>て、<ruby>説明<rt>せつめい</rt></ruby>を<ruby>始め<rt>はじめ</rt></ruby>ました。<ruby>彼は<rt>かれは</rt></ruby><ruby>本当<rt>ほんとう</rt></ruby>に<ruby>歴史<rt>れきし</rt></ruby>に<ruby>詳しい<rt>くわしい</rt></ruby>んです。 その<ruby>後、<rt>のち、</rt></ruby><ruby>一緒に<rt>いっしょに</rt></ruby><ruby>時代劇<rt>じだいげき</rt></ruby><ruby>ドラマ<rt>どらま</rt></ruby>を<ruby>見ま<rt>みま</rt></ruby>した。<ruby>ドラマ<rt>どらま</rt></ruby>には<ruby>可愛い<rt>かわい</rt></ruby><ruby>子犬<rt>こいぬ</rt></ruby>が<ruby>登場<rt>とうじょう</rt></ruby>し、<ruby>健太<rt>けんた</rt></ruby>は「<ruby>可愛い、<rt>かわい、</rt></ruby><ruby>可愛い<rt>かわい</rt></ruby>」と<ruby>言い<rt>いい</rt></ruby>ながら<ruby>子犬<rt>こいぬ</rt></ruby>をなでる<ruby>真似<rt>まね</rt></ruby>をしていました。<ruby>普段<rt>ふだん</rt></ruby>はなかなか<ruby>見せ<rt>みせ</rt></ruby>ない<ruby>一面<rt>いちめん</rt></ruby>を<ruby>見る<rt>みる</rt></ruby>ことができて、<ruby>嬉しか<rt>うれしか</rt></ruby>ったです。<ruby>夜<rt>よる</rt></ruby>は、<ruby>健太<rt>けんた</rt></ruby>が<ruby>作っ<rt>つくっ</rt></ruby>てくれた<ruby>美味しい<rt>おいしい</rt></ruby>お<ruby>味噌汁<rt>みそしる</rt></ruby>と、<ruby>母<rt>はは</rt></ruby>が<ruby>作っ<rt>つくっ</rt></ruby>てくれたお<ruby>弁当<rt>べんとう</rt></ruby>を<ruby>食べ<rt>たべ</rt></ruby>ました。<ruby>健太<rt>けんた</rt></ruby>は<ruby>料理<rt>りょうり</rt></ruby>の<ruby>型<rt>かた</rt></ruby>も<ruby>上手<rt>じょうず</rt></ruby>で、<ruby>本当<rt>ほんとう</rt></ruby>に<ruby>感心<rt>かんしん</rt></ruby>しました。<ruby>帰る<rt>かえる</rt></ruby>ときは「<ruby>今日は<rt>こんにちは</rt></ruby>ありがとう！<ruby>楽しか<rt>たのしか</rt></ruby>ったよ！」と<ruby>笑顔<rt>えがお</rt></ruby>でお<ruby>礼<rt>れい</rt></ruby>を<ruby>言って<rt>いって</rt></ruby>くれました。また<ruby>遊び<rt>あそび</rt></ruby>に<ruby>来て<rt>きて</rt></ruby>ほしいな。</p><h2>短文中文翻译</h2><p><ruby>昨日<rt>きのう</rt></ruby>は、<ruby>従兄弟<rt>いとこ</rt></ruby>の<ruby>健太<rt>けんた</rt></ruby>が<ruby>家<rt>いえ</rt></ruby>に<ruby>遊び<rt>あそび</rt></ruby>に<ruby>来て<rt>きて</rt></ruby>くれました。<ruby>健太<rt>けんた</rt></ruby>は<ruby>歴史<rt>れきし</rt></ruby>が<ruby>大好き<rt>だいすき</rt></ruby>で、<ruby>特に<rt>とくに</rt></ruby><ruby>戦国時代<rt>せんごくじだい</rt></ruby>にはまっているんです。お<ruby>昼<rt>ひる</rt></ruby>ご<ruby>飯<rt>めし</rt></ruby>にしようとした<ruby>時、<rt>とき、</rt></ruby><ruby>彼<rt>かれ</rt></ruby>が「<ruby>ドラマ<rt>どらま</rt></ruby>で<ruby>見た<rt>みた</rt></ruby>んだけど、<ruby>戦国時代<rt>せんごくじだい</rt></ruby>の<ruby>武士<rt>ぶし</rt></ruby>は<ruby>寝巻<rt>ねまき</rt></ruby>きを<ruby>着て<rt>きて</rt></ruby>いなかったらしいよ！」と<ruby>叫ぶ<rt>さけぶ</rt></ruby>ように<ruby>教え<rt>おしえ</rt></ruby>てくれました。<ruby>驚い<rt>おどろい</rt></ruby>て「じゃあ、どうやって<ruby>寝て<rt>ねて</rt></ruby>いたんだろう？」と<ruby>聞く<rt>きく</rt></ruby>と、<ruby>健太<rt>けんた</rt></ruby>は<ruby>得意<rt>とくい</rt></ruby>そうに<ruby>歴史<rt>れきし</rt></ruby>の<ruby>本<rt>ほん</rt></ruby>が<ruby>並ん<rt>ならん</rt></ruby>だ<ruby>棚<rt>たな</rt></ruby>から<ruby>一冊<rt>いっさつ</rt></ruby><ruby>取り出し<rt>とりだし</rt></ruby>て、<ruby>説明<rt>せつめい</rt></ruby>を<ruby>始め<rt>はじめ</rt></ruby>ました。<ruby>彼は<rt>かれは</rt></ruby><ruby>本当<rt>ほんとう</rt></ruby>に<ruby>歴史<rt>れきし</rt></ruby>に<ruby>詳しい<rt>くわしい</rt></ruby>んです。 その<ruby>後、<rt>のち、</rt></ruby><ruby>一緒に<rt>いっしょに</rt></ruby><ruby>時代劇<rt>じだいげき</rt></ruby><ruby>ドラマ<rt>どらま</rt></ruby>を<ruby>見ま<rt>みま</rt></ruby>した。<ruby>ドラマ<rt>どらま</rt></ruby>には<ruby>可愛い<rt>かわい</rt></ruby><ruby>子犬<rt>こいぬ</rt></ruby>が<ruby>登場<rt>とうじょう</rt></ruby>し、<ruby>健太<rt>けんた</rt></ruby>は「<ruby>可愛い、<rt>かわい、</rt></ruby><ruby>可愛い<rt>かわい</rt></ruby>」と<ruby>言い<rt>いい</rt></ruby>ながら<ruby>子犬<rt>こいぬ</rt></ruby>をなでる<ruby>真似<rt>まね</rt></ruby>をしていました。<ruby>普段<rt>ふだん</rt></ruby>はなかなか<ruby>見せ<rt>みせ</rt></ruby>ない<ruby>一面<rt>いちめん</rt></ruby>を<ruby>見る<rt>みる</rt></ruby>ことができて、<ruby>嬉しか<rt>うれしか</rt></ruby>ったです。<ruby>夜<rt>よる</rt></ruby>は、<ruby>健太<rt>けんた</rt></ruby>が<ruby>作っ<rt>つくっ</rt></ruby>てくれた<ruby>美味しい<rt>おいしい</rt></ruby>お<ruby>味噌汁<rt>みそしる</rt></ruby>と、<ruby>母<rt>はは</rt></ruby>が<ruby>作っ<rt>つくっ</rt></ruby>てくれたお<ruby>弁当<rt>べんとう</rt></ruby>を<ruby>食べ<rt>たべ</rt></ruby>ました。<ruby>健太<rt>けんた</rt></ruby>は<ruby>料理<rt>りょうり</rt></ruby>の<ruby>型<rt>かた</rt></ruby>も<ruby>上手<rt>じょうず</rt></ruby>で、<ruby>本当<rt>ほんとう</rt></ruby>に<ruby>感心<rt>かんしん</rt></ruby>しました。<ruby>帰る<rt>かえる</rt></ruby>ときは「<ruby>今日は<rt>こんにちは</rt></ruby>ありがとう！<ruby>楽しか<rt>たのしか</rt></ruby>ったよ！」と<ruby>笑顔<rt>えがお</rt></ruby>でお<ruby>礼<rt>れい</rt></ruby>を<ruby>言って<rt>いって</rt></ruby>くれました。また<ruby>遊び<rt>あそび</rt></ruby>に<ruby>来て<rt>きて</rt></ruby>ほしいな。</p><h2>词汇解释</h2>\\n<ul>\\n<li><strong>寝巻き (ねまき) [名词]</strong>: 睡衣</li>\\n<li><strong>型 (かた) [名词]</strong>: 样式，模型</li>\\n<li><strong>昼食 (ちゅうしょく) [名词]</strong>: 午餐</li>\\n<li><strong>棚 (たな) [名词]</strong>: 架子，书架</li>\\n<li><strong>お礼 (おれい) [名词]</strong>:  感谢</li>\\n<li><strong>従兄弟 (いとこ) [名词]</strong>:  表兄弟，堂兄弟</li>\\n<li><strong>叫ぶ (さけぶ) [动词]</strong>:  喊叫</li>\\n<li><strong>聞かせる (きかせる) [动词]</strong>:  讲述，说给…听</li>\\n<li><strong>ドラマ [名词]</strong>:  电视剧</li>\\n<li><strong>可愛がる (かわいがる) [动词]</strong>:  疼爱，喜欢</li>\\n<li><strong>留守 (るす) [名词]</strong>:  不在家，外出</li>\\n<li><strong>歴史 (れきし) [名词]</strong>:  历史 </li>\\n</ul>'"
      ]
     },
     "execution_count": 3,
     "metadata": {},
     "output_type": "execute_result"
    }
   ],
   "source": [
    "a.modified_html_content"
   ]
  },
  {
   "cell_type": "code",
   "execution_count": null,
   "metadata": {},
   "outputs": [],
   "source": [
    "a.separate_stroy()"
   ]
  },
  {
   "cell_type": "code",
   "execution_count": 4,
   "metadata": {},
   "outputs": [
    {
     "ename": "OSError",
     "evalue": "wkhtmltopdf exited with non-zero code 1. error:\nQPainter::begin(): Returned false\nExit with code 1, due to unknown error.\n",
     "output_type": "error",
     "traceback": [
      "\u001b[0;31m---------------------------------------------------------------------------\u001b[0m",
      "\u001b[0;31mOSError\u001b[0m                                   Traceback (most recent call last)",
      "Cell \u001b[0;32mIn[4], line 2\u001b[0m\n\u001b[1;32m      1\u001b[0m \u001b[38;5;28;01mimport\u001b[39;00m \u001b[38;5;21;01mpdfkit\u001b[39;00m\n\u001b[0;32m----> 2\u001b[0m \u001b[43mpdfkit\u001b[49m\u001b[38;5;241;43m.\u001b[39;49m\u001b[43mfrom_string\u001b[49m\u001b[43m(\u001b[49m\u001b[43ma\u001b[49m\u001b[38;5;241;43m.\u001b[39;49m\u001b[43mmodified_html_content\u001b[49m\u001b[43m,\u001b[49m\u001b[43m \u001b[49m\u001b[38;5;124;43m'\u001b[39;49m\u001b[38;5;124;43m./src/PDF/output3.pdf\u001b[39;49m\u001b[38;5;124;43m'\u001b[39;49m\u001b[43m)\u001b[49m\n",
      "File \u001b[0;32m/opt/miniconda3/envs/Frontend/lib/python3.10/site-packages/pdfkit/api.py:75\u001b[0m, in \u001b[0;36mfrom_string\u001b[0;34m(input, output_path, options, toc, cover, css, configuration, cover_first, verbose)\u001b[0m\n\u001b[1;32m     56\u001b[0m \u001b[38;5;250m\u001b[39m\u001b[38;5;124;03m\"\"\"\u001b[39;00m\n\u001b[1;32m     57\u001b[0m \u001b[38;5;124;03mConvert given string or strings to PDF document\u001b[39;00m\n\u001b[1;32m     58\u001b[0m \n\u001b[0;32m   (...)\u001b[0m\n\u001b[1;32m     69\u001b[0m \u001b[38;5;124;03mReturns: True on success\u001b[39;00m\n\u001b[1;32m     70\u001b[0m \u001b[38;5;124;03m\"\"\"\u001b[39;00m\n\u001b[1;32m     72\u001b[0m r \u001b[38;5;241m=\u001b[39m PDFKit(\u001b[38;5;28minput\u001b[39m, \u001b[38;5;124m'\u001b[39m\u001b[38;5;124mstring\u001b[39m\u001b[38;5;124m'\u001b[39m, options\u001b[38;5;241m=\u001b[39moptions, toc\u001b[38;5;241m=\u001b[39mtoc, cover\u001b[38;5;241m=\u001b[39mcover, css\u001b[38;5;241m=\u001b[39mcss,\n\u001b[1;32m     73\u001b[0m            configuration\u001b[38;5;241m=\u001b[39mconfiguration, cover_first\u001b[38;5;241m=\u001b[39mcover_first, verbose\u001b[38;5;241m=\u001b[39mverbose)\n\u001b[0;32m---> 75\u001b[0m \u001b[38;5;28;01mreturn\u001b[39;00m \u001b[43mr\u001b[49m\u001b[38;5;241;43m.\u001b[39;49m\u001b[43mto_pdf\u001b[49m\u001b[43m(\u001b[49m\u001b[43moutput_path\u001b[49m\u001b[43m)\u001b[49m\n",
      "File \u001b[0;32m/opt/miniconda3/envs/Frontend/lib/python3.10/site-packages/pdfkit/pdfkit.py:201\u001b[0m, in \u001b[0;36mPDFKit.to_pdf\u001b[0;34m(self, path)\u001b[0m\n\u001b[1;32m    199\u001b[0m stderr \u001b[38;5;241m=\u001b[39m stderr\u001b[38;5;241m.\u001b[39mdecode(\u001b[38;5;124m'\u001b[39m\u001b[38;5;124mutf-8\u001b[39m\u001b[38;5;124m'\u001b[39m, errors\u001b[38;5;241m=\u001b[39m\u001b[38;5;124m'\u001b[39m\u001b[38;5;124mreplace\u001b[39m\u001b[38;5;124m'\u001b[39m)\n\u001b[1;32m    200\u001b[0m exit_code \u001b[38;5;241m=\u001b[39m result\u001b[38;5;241m.\u001b[39mreturncode\n\u001b[0;32m--> 201\u001b[0m \u001b[38;5;28;43mself\u001b[39;49m\u001b[38;5;241;43m.\u001b[39;49m\u001b[43mhandle_error\u001b[49m\u001b[43m(\u001b[49m\u001b[43mexit_code\u001b[49m\u001b[43m,\u001b[49m\u001b[43m \u001b[49m\u001b[43mstderr\u001b[49m\u001b[43m)\u001b[49m\n\u001b[1;32m    203\u001b[0m \u001b[38;5;66;03m# Since wkhtmltopdf sends its output to stderr we will capture it\u001b[39;00m\n\u001b[1;32m    204\u001b[0m \u001b[38;5;66;03m# and properly send to stdout\u001b[39;00m\n\u001b[1;32m    205\u001b[0m \u001b[38;5;28;01mif\u001b[39;00m \u001b[38;5;124m'\u001b[39m\u001b[38;5;124m--quiet\u001b[39m\u001b[38;5;124m'\u001b[39m \u001b[38;5;129;01mnot\u001b[39;00m \u001b[38;5;129;01min\u001b[39;00m args:\n",
      "File \u001b[0;32m/opt/miniconda3/envs/Frontend/lib/python3.10/site-packages/pdfkit/pdfkit.py:158\u001b[0m, in \u001b[0;36mPDFKit.handle_error\u001b[0;34m(exit_code, stderr)\u001b[0m\n\u001b[1;32m    155\u001b[0m     \u001b[38;5;28;01mraise\u001b[39;00m \u001b[38;5;167;01mIOError\u001b[39;00m(\u001b[38;5;124m'\u001b[39m\u001b[38;5;124mwkhtmltopdf reported an error:\u001b[39m\u001b[38;5;130;01m\\n\u001b[39;00m\u001b[38;5;124m'\u001b[39m \u001b[38;5;241m+\u001b[39m stderr)\n\u001b[1;32m    157\u001b[0m error_msg \u001b[38;5;241m=\u001b[39m stderr \u001b[38;5;129;01mor\u001b[39;00m \u001b[38;5;124m'\u001b[39m\u001b[38;5;124mUnknown Error\u001b[39m\u001b[38;5;124m'\u001b[39m\n\u001b[0;32m--> 158\u001b[0m \u001b[38;5;28;01mraise\u001b[39;00m \u001b[38;5;167;01mIOError\u001b[39;00m(\u001b[38;5;124m\"\u001b[39m\u001b[38;5;124mwkhtmltopdf exited with non-zero code \u001b[39m\u001b[38;5;132;01m{0}\u001b[39;00m\u001b[38;5;124m. error:\u001b[39m\u001b[38;5;130;01m\\n\u001b[39;00m\u001b[38;5;132;01m{1}\u001b[39;00m\u001b[38;5;124m\"\u001b[39m\u001b[38;5;241m.\u001b[39mformat(exit_code, error_msg))\n",
      "\u001b[0;31mOSError\u001b[0m: wkhtmltopdf exited with non-zero code 1. error:\nQPainter::begin(): Returned false\nExit with code 1, due to unknown error.\n"
     ]
    }
   ],
   "source": [
    "import pdfkit\n",
    "pdfkit.from_string(a.modified_html_content, './src/PDF/output3.pdf')"
   ]
  },
  {
   "cell_type": "code",
   "execution_count": null,
   "metadata": {},
   "outputs": [],
   "source": []
  },
  {
   "cell_type": "code",
   "execution_count": null,
   "metadata": {},
   "outputs": [],
   "source": [
    "def separate_stroy(self):\n",
    "    self.story_paragraph =[]\n",
    "    self.aferhtml_story_paragraph = []\n",
    "    self.afermd_story_paragraph = []\n",
    "    self.soup = BeautifulSoup(self.html, 'html.parser')\n",
    "    h2_tags = self.soup.find_all('h2')\n",
    "    # 找到<h2>标签后的所有兄弟节点，直到下一个<h2>标签\n",
    "    for sibling in h2_tags[0].find_next_siblings():\n",
    "        if sibling.name == 'h2':\n",
    "            break\n",
    "        if sibling.name == 'p':\n",
    "            self.story_paragraph.append(sibling.text)\n",
    "            after_html,after_md = 假名注音(sentence=sibling.text)\n",
    "            sibling.string.replace_with(after_html)\n",
    "            self.aferhtml_story_paragraph.append(after_html)\n",
    "            self.afermd_story_paragraph.append(after_md)\n",
    "            print(f'输入是：{sibling.text}，输出是：{after_html}')\n",
    "                    \n",
    "    self.story_paragraph  = ''.join(self.story_paragraph)\n",
    "    self.aferhtml_story_paragraph = ''.join(self.aferhtml_story_paragraph)\n",
    "    self.afermd_story_paragraph = ''.join(self.afermd_story_paragraph)\n",
    "    self.aferhtml = self.soup"
   ]
  },
  {
   "cell_type": "code",
   "execution_count": null,
   "metadata": {},
   "outputs": [],
   "source": [
    "separate_stroy(a)"
   ]
  },
  {
   "cell_type": "code",
   "execution_count": null,
   "metadata": {},
   "outputs": [],
   "source": [
    "a.aferhtml_story_paragraph"
   ]
  },
  {
   "cell_type": "code",
   "execution_count": null,
   "metadata": {},
   "outputs": [],
   "source": [
    "a.html"
   ]
  },
  {
   "cell_type": "code",
   "execution_count": null,
   "metadata": {},
   "outputs": [],
   "source": [
    "# 使用正则表达式匹配第一个 <h2> 和下一个 <h2> 之间的所有内容，并进行替换\n",
    "pattern = re.compile(r'(<h2>短文故事</h2>)(.*?)(?=<h2>)', re.DOTALL)\n",
    "modified_html_content = re.sub(pattern, r'\\1' + a.aferhtml_story_paragraph, a.html)"
   ]
  },
  {
   "cell_type": "code",
   "execution_count": null,
   "metadata": {},
   "outputs": [],
   "source": [
    "modified_html_content"
   ]
  },
  {
   "cell_type": "code",
   "execution_count": null,
   "metadata": {},
   "outputs": [],
   "source": [
    "with open('output2.html', 'w', encoding='utf-8') as file:\n",
    "    file.write(a.modified_html_content)"
   ]
  },
  {
   "cell_type": "code",
   "execution_count": null,
   "metadata": {},
   "outputs": [],
   "source": [
    "def separate_stroy(self):\n",
    "    self.story_paragraph =[]\n",
    "    self.aferhtml_story_paragraph = []\n",
    "    self.afermd_story_paragraph = []\n",
    "    self.soup = BeautifulSoup(self.html, 'html.parser')\n",
    "    h2_tags = self.soup.find_all('h2')\n",
    "    # 找到<h2>标签后的所有兄弟节点，直到下一个<h2>标签\n",
    "    for sibling in h2_tags[0].find_next_siblings():\n",
    "        if sibling.name == 'h2':\n",
    "            break\n",
    "        if sibling.name == 'p':\n",
    "            self.story_paragraph.append(sibling.text)\n",
    "            after_html,after_md = JPLearner.假名注音(sentence=sibling.text)\n",
    "            \n",
    "            sibling.string.replace_with(after_html)\n",
    "            self.aferhtml_story_paragraph.append(after_html)\n",
    "            self.afermd_story_paragraph.append(after_md)\n",
    "            print(f'after_html: {after_html},after_md: {after_md}')\n",
    "                    \n",
    "    self.story_paragraph  = ''.join(self.story_paragraph)\n",
    "    # self.aferhtml_story_paragraph = ''.join(self.aferhtml_story_paragraph)\n",
    "    # self.afermd_story_paragraph = ''.join(self.afermd_story_paragraph)\n",
    "    self.aferhtml = self.soup"
   ]
  },
  {
   "cell_type": "code",
   "execution_count": null,
   "metadata": {},
   "outputs": [],
   "source": [
    "separate_stroy(a)"
   ]
  },
  {
   "cell_type": "code",
   "execution_count": null,
   "metadata": {},
   "outputs": [],
   "source": [
    "a.aferhtml_story_paragraph"
   ]
  },
  {
   "cell_type": "code",
   "execution_count": null,
   "metadata": {},
   "outputs": [],
   "source": []
  },
  {
   "cell_type": "code",
   "execution_count": null,
   "metadata": {},
   "outputs": [],
   "source": []
  },
  {
   "cell_type": "code",
   "execution_count": null,
   "metadata": {},
   "outputs": [],
   "source": []
  }
 ],
 "metadata": {
  "kernelspec": {
   "display_name": "Frontend",
   "language": "python",
   "name": "python3"
  },
  "language_info": {
   "codemirror_mode": {
    "name": "ipython",
    "version": 3
   },
   "file_extension": ".py",
   "mimetype": "text/x-python",
   "name": "python",
   "nbconvert_exporter": "python",
   "pygments_lexer": "ipython3",
   "version": "3.10.14"
  }
 },
 "nbformat": 4,
 "nbformat_minor": 2
}
