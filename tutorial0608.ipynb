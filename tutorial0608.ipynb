{
 "cells": [
  {
   "cell_type": "code",
   "execution_count": 1,
   "metadata": {},
   "outputs": [
    {
     "name": "stderr",
     "output_type": "stream",
     "text": [
      "/opt/miniconda3/envs/Frontend/lib/python3.10/site-packages/tqdm/auto.py:21: TqdmWarning: IProgress not found. Please update jupyter and ipywidgets. See https://ipywidgets.readthedocs.io/en/stable/user_install.html\n",
      "  from .autonotebook import tqdm as notebook_tqdm\n"
     ]
    }
   ],
   "source": [
    "from JPLearner import JPLearner\n",
    "from bs4 import BeautifulSoup\n",
    "from pykakasi import kakasi"
   ]
  },
  {
   "cell_type": "code",
   "execution_count": 2,
   "metadata": {},
   "outputs": [
    {
     "name": "stderr",
     "output_type": "stream",
     "text": [
      "logger init done!\n",
      "Gemini response already done!\n"
     ]
    }
   ],
   "source": [
    "a = JPLearner(word_list=\"寝巻き｜型付け｜昼食｜棚｜お礼｜従兄弟｜叫ぶ｜聞かせる｜ドラマ｜可愛がる｜留守｜歴史\")"
   ]
  },
  {
   "cell_type": "code",
   "execution_count": null,
   "metadata": {},
   "outputs": [],
   "source": [
    "a.html"
   ]
  },
  {
   "cell_type": "code",
   "execution_count": 3,
   "metadata": {},
   "outputs": [
    {
     "name": "stdout",
     "output_type": "stream",
     "text": [
      "<ruby>気に入り<rt>きにいり</rt></ruby>なんです。 \n",
      "<ruby>言い<rt>いい</rt></ruby>ました。 \n",
      "<ruby>見入り<rt>みいり</rt></ruby>ました。 \n",
      "<ruby>褒め<rt>ほめ</rt></ruby>てくれました。 \n",
      "<ruby>買っ<rt>かっ</rt></ruby>てきてくれました。 \n",
      "<ruby>嬉しい<rt>うれしい</rt></ruby>！ありがとう！」\n",
      "<ruby>叫び<rt>さけび</rt></ruby>ました。 \n",
      "<ruby>言って<rt>いって</rt></ruby>くれました。 \n",
      "<ruby>思い<rt>おもい</rt></ruby>ました。\n"
     ]
    }
   ],
   "source": [
    "a.separate_stroy()"
   ]
  },
  {
   "cell_type": "code",
   "execution_count": null,
   "metadata": {},
   "outputs": [],
   "source": [
    "with open('output2.html', 'w', encoding='utf-8') as file:\n",
    "    file.write('<ruby>言い<rt>いい</rt></ruby>')"
   ]
  },
  {
   "cell_type": "code",
   "execution_count": 9,
   "metadata": {},
   "outputs": [],
   "source": [
    "def separate_stroy(self):\n",
    "    self.story_paragraph =[]\n",
    "    self.aferhtml_story_paragraph = []\n",
    "    self.afermd_story_paragraph = []\n",
    "    self.soup = BeautifulSoup(self.html, 'html.parser')\n",
    "    h2_tags = self.soup.find_all('h2')\n",
    "    # 找到<h2>标签后的所有兄弟节点，直到下一个<h2>标签\n",
    "    for sibling in h2_tags[0].find_next_siblings():\n",
    "        if sibling.name == 'h2':\n",
    "            break\n",
    "        if sibling.name == 'p':\n",
    "            self.story_paragraph.append(sibling.text)\n",
    "            after_html,after_md = JPLearner.假名注音(sentence=sibling.text)\n",
    "            \n",
    "            sibling.string.replace_with(after_html)\n",
    "            self.aferhtml_story_paragraph.append(after_html)\n",
    "            self.afermd_story_paragraph.append(after_md)\n",
    "            print(f'after_html: {after_html},after_md: {after_md}')\n",
    "                    \n",
    "    self.story_paragraph  = ''.join(self.story_paragraph)\n",
    "    # self.aferhtml_story_paragraph = ''.join(self.aferhtml_story_paragraph)\n",
    "    # self.afermd_story_paragraph = ''.join(self.afermd_story_paragraph)\n",
    "    self.aferhtml = self.soup"
   ]
  },
  {
   "cell_type": "code",
   "execution_count": 10,
   "metadata": {},
   "outputs": [
    {
     "name": "stdout",
     "output_type": "stream",
     "text": [
      "<ruby>気に入り<rt>きにいり</rt></ruby>なんです。 \n",
      "after_html: <ruby>気に入り<rt>きにいり</rt></ruby>なんです。 ,after_md: 気に入り(きにいり)なんです。 \n",
      "<ruby>言い<rt>いい</rt></ruby>ました。 \n",
      "after_html: <ruby>言い<rt>いい</rt></ruby>ました。 ,after_md: 言い(いい)ました。 \n",
      "<ruby>見入り<rt>みいり</rt></ruby>ました。 \n",
      "after_html: <ruby>見入り<rt>みいり</rt></ruby>ました。 ,after_md: 見入り(みいり)ました。 \n",
      "<ruby>褒め<rt>ほめ</rt></ruby>てくれました。 \n",
      "after_html: <ruby>褒め<rt>ほめ</rt></ruby>てくれました。 ,after_md: 褒め(ほめ)てくれました。 \n",
      "<ruby>買っ<rt>かっ</rt></ruby>てきてくれました。 \n",
      "after_html: <ruby>買っ<rt>かっ</rt></ruby>てきてくれました。 ,after_md: 買っ(かっ)てきてくれました。 \n",
      "<ruby>嬉しい<rt>うれしい</rt></ruby>！ありがとう！」\n",
      "after_html: <ruby>嬉しい<rt>うれしい</rt></ruby>！ありがとう！」,after_md: 嬉しい(うれしい)！ありがとう！」\n",
      "<ruby>叫び<rt>さけび</rt></ruby>ました。 \n",
      "after_html: <ruby>叫び<rt>さけび</rt></ruby>ました。 ,after_md: 叫び(さけび)ました。 \n",
      "<ruby>言って<rt>いって</rt></ruby>くれました。 \n",
      "after_html: <ruby>言って<rt>いって</rt></ruby>くれました。 ,after_md: 言って(いって)くれました。 \n",
      "<ruby>思い<rt>おもい</rt></ruby>ました。\n",
      "after_html: <ruby>思い<rt>おもい</rt></ruby>ました。,after_md: 思い(おもい)ました。\n"
     ]
    }
   ],
   "source": [
    "separate_stroy(a)"
   ]
  },
  {
   "cell_type": "code",
   "execution_count": 11,
   "metadata": {},
   "outputs": [
    {
     "data": {
      "text/plain": [
       "['<ruby>気に入り<rt>きにいり</rt></ruby>なんです。 ',\n",
       " '<ruby>言い<rt>いい</rt></ruby>ました。 ',\n",
       " '<ruby>見入り<rt>みいり</rt></ruby>ました。 ',\n",
       " '<ruby>褒め<rt>ほめ</rt></ruby>てくれました。 ',\n",
       " '<ruby>買っ<rt>かっ</rt></ruby>てきてくれました。 ',\n",
       " '<ruby>嬉しい<rt>うれしい</rt></ruby>！ありがとう！」',\n",
       " '<ruby>叫び<rt>さけび</rt></ruby>ました。 ',\n",
       " '<ruby>言って<rt>いって</rt></ruby>くれました。 ',\n",
       " '<ruby>思い<rt>おもい</rt></ruby>ました。']"
      ]
     },
     "execution_count": 11,
     "metadata": {},
     "output_type": "execute_result"
    }
   ],
   "source": [
    "a.aferhtml_story_paragraph"
   ]
  },
  {
   "cell_type": "code",
   "execution_count": null,
   "metadata": {},
   "outputs": [],
   "source": []
  },
  {
   "cell_type": "code",
   "execution_count": null,
   "metadata": {},
   "outputs": [],
   "source": []
  },
  {
   "cell_type": "code",
   "execution_count": null,
   "metadata": {},
   "outputs": [],
   "source": []
  }
 ],
 "metadata": {
  "kernelspec": {
   "display_name": "Frontend",
   "language": "python",
   "name": "python3"
  },
  "language_info": {
   "codemirror_mode": {
    "name": "ipython",
    "version": 3
   },
   "file_extension": ".py",
   "mimetype": "text/x-python",
   "name": "python",
   "nbconvert_exporter": "python",
   "pygments_lexer": "ipython3",
   "version": "3.10.14"
  }
 },
 "nbformat": 4,
 "nbformat_minor": 2
}
